{
 "cells": [
  {
   "cell_type": "code",
   "execution_count": 6,
   "id": "geological-latitude",
   "metadata": {},
   "outputs": [],
   "source": [
    "import glob\n",
    "import shutil\n",
    "import os.path as op"
   ]
  },
  {
   "cell_type": "code",
   "execution_count": 7,
   "id": "dried-spray",
   "metadata": {},
   "outputs": [
    {
     "name": "stdout",
     "output_type": "stream",
     "text": [
      "mkdir: /Users/gdehol/Science/balgrist/data/ds-balgrist/sub-001: File exists\r\n"
     ]
    }
   ],
   "source": [
    "!mkdir $HOME/Science/balgrist/data/ds-balgrist/sub-001"
   ]
  },
  {
   "cell_type": "code",
   "execution_count": 8,
   "id": "productive-intent",
   "metadata": {},
   "outputs": [
    {
     "name": "stdout",
     "output_type": "stream",
     "text": [
      "mkdir: /Users/gdehol/Science/balgrist/data/ds-balgrist/sub-001/ses-sns3t/: File exists\r\n"
     ]
    }
   ],
   "source": [
    "!mkdir $HOME/Science/balgrist/data/ds-balgrist/sub-001/ses-sns3t/"
   ]
  },
  {
   "cell_type": "code",
   "execution_count": 9,
   "id": "worse-belize",
   "metadata": {},
   "outputs": [
    {
     "name": "stdout",
     "output_type": "stream",
     "text": [
      "mkdir: /Users/gdehol/Science/balgrist/data/ds-balgrist/sub-001/ses-sns3t/func: File exists\r\n"
     ]
    }
   ],
   "source": [
    "!mkdir $HOME/Science/balgrist/data/ds-balgrist/sub-001/ses-sns3t/func"
   ]
  },
  {
   "cell_type": "code",
   "execution_count": 10,
   "id": "expanded-bracelet",
   "metadata": {},
   "outputs": [
    {
     "data": {
      "text/plain": [
       "('/data/ds-risk/sub-29/ses-3t1/func',\n",
       " 'sub-29_ses-3t1_task-mapper_run-4_events.tsv')"
      ]
     },
     "execution_count": 10,
     "metadata": {},
     "output_type": "execute_result"
    }
   ],
   "source": [
    "op.split(fn)"
   ]
  },
  {
   "cell_type": "code",
   "execution_count": 12,
   "id": "embedded-wallet",
   "metadata": {},
   "outputs": [],
   "source": [
    "new_sourcedata = '/Users/gdehol/Science/balgrist/data/ds-balgrist'"
   ]
  },
  {
   "cell_type": "code",
   "execution_count": 15,
   "id": "amino-diesel",
   "metadata": {},
   "outputs": [],
   "source": [
    "for fn in glob.glob('/data/ds-risk/sub-29/ses-3t1/func/*'):\n",
    "    fn_ = op.split(fn)[1]\n",
    "    shutil.copy(fn, op.join(new_sourcedata, 'sub-001', 'ses-sns3t', 'func', fn_.replace('sub-29', 'sub-001').replace('ses-3t1', 'ses-sns3t')))"
   ]
  },
  {
   "cell_type": "code",
   "execution_count": 9,
   "id": "major-vietnam",
   "metadata": {},
   "outputs": [
    {
     "name": "stdout",
     "output_type": "stream",
     "text": [
      "ls: /data/ds-risk/: No such file or directory\r\n"
     ]
    }
   ],
   "source": [
    "!ls /data/ds-risk/"
   ]
  },
  {
   "cell_type": "code",
   "execution_count": 14,
   "id": "distinguished-watershed",
   "metadata": {},
   "outputs": [
    {
     "name": "stdout",
     "output_type": "stream",
     "text": [
      "ls: /data/: No such file or directory\r\n"
     ]
    }
   ],
   "source": [
    "!ls /data/"
   ]
  },
  {
   "cell_type": "code",
   "execution_count": null,
   "id": "congressional-recipe",
   "metadata": {},
   "outputs": [],
   "source": []
  }
 ],
 "metadata": {
  "kernelspec": {
   "display_name": "Python 3",
   "language": "python",
   "name": "python3"
  },
  "language_info": {
   "codemirror_mode": {
    "name": "ipython",
    "version": 3
   },
   "file_extension": ".py",
   "mimetype": "text/x-python",
   "name": "python",
   "nbconvert_exporter": "python",
   "pygments_lexer": "ipython3",
   "version": "3.8.5"
  }
 },
 "nbformat": 4,
 "nbformat_minor": 5
}
