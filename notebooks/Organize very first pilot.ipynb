{
 "cells": [
  {
   "cell_type": "code",
   "execution_count": 32,
   "id": "wound-pixel",
   "metadata": {},
   "outputs": [],
   "source": [
    "import glob\n",
    "import shutil\n",
    "import os.path as op"
   ]
  },
  {
   "cell_type": "code",
   "execution_count": 2,
   "id": "gentle-going",
   "metadata": {},
   "outputs": [
    {
     "name": "stdout",
     "output_type": "stream",
     "text": [
      "mkdir: /Users/gdehol/Science/balgrist/data/ds-balgrist/sub-001: File exists\r\n"
     ]
    }
   ],
   "source": [
    "!mkdir $HOME/Science/balgrist/data/ds-balgrist/sub-001"
   ]
  },
  {
   "cell_type": "code",
   "execution_count": 3,
   "id": "vertical-porcelain",
   "metadata": {},
   "outputs": [
    {
     "name": "stdout",
     "output_type": "stream",
     "text": [
      "mkdir: /Users/gdehol/Science/balgrist/data/ds-balgrist/sub-001/ses-sns3t/: File exists\r\n"
     ]
    }
   ],
   "source": [
    "!mkdir $HOME/Science/balgrist/data/ds-balgrist/sub-001/ses-sns3t/"
   ]
  },
  {
   "cell_type": "code",
   "execution_count": 4,
   "id": "superb-vermont",
   "metadata": {},
   "outputs": [
    {
     "name": "stdout",
     "output_type": "stream",
     "text": [
      "mkdir: /Users/gdehol/Science/balgrist/data/ds-balgrist/sub-001/ses-sns3t/func: File exists\n",
      "mkdir: /Users/gdehol/Science/balgrist/data/ds-balgrist/sub-001/ses-sns3t/anat: File exists\n",
      "mkdir: /Users/gdehol/Science/balgrist/data/ds-balgrist/sub-001/ses-sns3t/fmap: File exists\n",
      "mkdir: /Users/gdehol/Science/balgrist/data/ds-balgrist/sub-001/ses-ibt7t/: File exists\n",
      "mkdir: /Users/gdehol/Science/balgrist/data/ds-balgrist/sub-001/ses-ibt7t/func: File exists\n",
      "mkdir: /Users/gdehol/Science/balgrist/data/ds-balgrist/sub-001/ses-ibt7t/anat: File exists\n",
      "mkdir: /Users/gdehol/Science/balgrist/data/ds-balgrist/sub-001/ses-ibt7t/fmap: File exists\n"
     ]
    }
   ],
   "source": [
    "!mkdir $HOME/Science/balgrist/data/ds-balgrist/sub-001/ses-sns3t/func\n",
    "!mkdir $HOME/Science/balgrist/data/ds-balgrist/sub-001/ses-sns3t/anat\n",
    "!mkdir $HOME/Science/balgrist/data/ds-balgrist/sub-001/ses-sns3t/fmap\n",
    "\n",
    "\n",
    "!mkdir $HOME/Science/balgrist/data/ds-balgrist/sub-001/ses-ibt7t/\n",
    "!mkdir $HOME/Science/balgrist/data/ds-balgrist/sub-001/ses-ibt7t/func\n",
    "!mkdir $HOME/Science/balgrist/data/ds-balgrist/sub-001/ses-ibt7t/anat\n",
    "!mkdir $HOME/Science/balgrist/data/ds-balgrist/sub-001/ses-ibt7t/fmap"
   ]
  },
  {
   "cell_type": "code",
   "execution_count": 8,
   "id": "sorted-valuation",
   "metadata": {},
   "outputs": [],
   "source": [
    "new_sourcedata = sourcedata = '/Users/gdehol/Science/balgrist/data/ds-balgrist'"
   ]
  },
  {
   "cell_type": "code",
   "execution_count": null,
   "id": "extensive-killing",
   "metadata": {},
   "outputs": [],
   "source": [
    "for subdir in ['fmap', 'func', 'anat']:\n",
    "    for fn in glob.glob(op.join('/data/ds-risk/sub-29/ses-3t1', subdir, '*')):\n",
    "        fn_ = op.split(fn)[1]\n",
    "        shutil.copy(fn, op.join(new_sourcedata, 'sub-001', 'ses-sns3t', subdir, fn_.replace('sub-29', 'sub-001').replace('ses-3t1', 'ses-sns3t')))"
   ]
  },
  {
   "cell_type": "code",
   "execution_count": 52,
   "id": "extended-bulgaria",
   "metadata": {},
   "outputs": [],
   "source": [
    "for subdir in ['fmap', 'func', 'anat']:\n",
    "    for fn in glob.glob(op.join('/data/ds-risk/sub-29/ses-7t1', subdir, '*')):\n",
    "        fn_ = op.split(fn)[1]\n",
    "        shutil.copy(fn, op.join(new_sourcedata, 'sub-001', 'ses-ibt7t', subdir, fn_.replace('sub-29', 'sub-001').replace('ses-7t1', 'ses-ibt7t')))"
   ]
  },
  {
   "cell_type": "code",
   "execution_count": null,
   "id": "floral-opinion",
   "metadata": {},
   "outputs": [],
   "source": [
    "for subdir in ['fmap', 'func', 'anat']:\n",
    "    for fn in glob.glob(op.join(new_sourcedata, 'sub-001', 'ses-balgrist7t', subdir, '*')):\n",
    "        fn_ = op.split(fn)[1]\n",
    "        shutil.move(fn, fn.replace('sub-test', 'sub-001'))"
   ]
  },
  {
   "cell_type": "code",
   "execution_count": 3,
   "id": "injured-bedroom",
   "metadata": {},
   "outputs": [],
   "source": [
    "import nipype"
   ]
  },
  {
   "cell_type": "code",
   "execution_count": 4,
   "id": "organized-glenn",
   "metadata": {},
   "outputs": [],
   "source": [
    "from nilearn import image"
   ]
  },
  {
   "cell_type": "code",
   "execution_count": 23,
   "id": "proud-cooling",
   "metadata": {},
   "outputs": [],
   "source": [
    "import json"
   ]
  },
  {
   "cell_type": "code",
   "execution_count": 56,
   "id": "revised-adolescent",
   "metadata": {},
   "outputs": [
    {
     "name": "stdout",
     "output_type": "stream",
     "text": [
      "3 4\n",
      "3 5\n",
      "4 1\n",
      "4 2\n",
      "4 3\n"
     ]
    }
   ],
   "source": [
    "# Got a bit of a mess\n",
    "encodings = ['i', 'i', 'i', 'i-', 'i-']\n",
    "\n",
    "for source_run, target_run in zip([3, 3, 4, 4, 4], [4, 5, 1, 2, 3]):\n",
    "    print(source_run, target_run)\n",
    "    bold = op.join(sourcedata, 'sub-001', 'ses-balgrist7t', 'func', f'sub-001_ses-balgrist7t_task-mapper_run-{source_run}_bold.nii')\n",
    "    json_d = op.join(sourcedata, 'sub-001', 'ses-balgrist7t', 'func', f'sub-001_ses-balgrist7t_task-mapper_run-{source_run}_bold.json')\n",
    "    bold = image.load_img(bold)\n",
    "    \n",
    "    with open(json_d) as handle:\n",
    "        json_d = json.load(handle)\n",
    "        \n",
    "    json_d['IntendedFor'] = f'ses-balgrist7t/func/sub-001_ses-balgrist7t_task-mapper_run-{target_run}_bold.nii'\n",
    "    \n",
    "    \n",
    "    json_d['PhaseEncodingDirection'] = encodings[source_run-1]\n",
    "    \n",
    "    if source_run > target_run:\n",
    "        topup = image.index_img(bold, range(10))\n",
    "    else:\n",
    "        topup = image.index_img(bold, range(-10, -1))\n",
    "    \n",
    "    topup.to_filename(op.join(sourcedata, 'sub-001', 'ses-balgrist7t', 'fmap', f'sub-001_ses-balgrist7t_run-{target_run}_epi.nii'))\n",
    "    \n",
    "    \n",
    "    with open(op.join(sourcedata, 'sub-001', 'ses-balgrist7t', 'fmap', f'sub-001_ses-balgrist7t_run-{target_run}_epi.json'), 'w') as handle:\n",
    "        json.dump(json_d, handle)"
   ]
  },
  {
   "cell_type": "code",
   "execution_count": 35,
   "id": "atomic-intervention",
   "metadata": {},
   "outputs": [],
   "source": [
    "import json"
   ]
  },
  {
   "cell_type": "code",
   "execution_count": 53,
   "id": "impressed-stretch",
   "metadata": {},
   "outputs": [],
   "source": [
    "for fn in glob.glob(op.join(sourcedata, 'sub-001', 'ses-balgrist7t', 'func', '*.json')):\n",
    "    \n",
    "    with open(fn, 'r') as handle:\n",
    "        metadata = json.load(handle)\n",
    "        metadata['TaskName'] = 'Numerosity Mapper'\n",
    "        metadata['task'] = 'mapper'\n",
    "        \n",
    "    with open(fn, 'w') as handle:\n",
    "        json.dump(metadata, handle, indent=4)"
   ]
  },
  {
   "cell_type": "code",
   "execution_count": 54,
   "id": "olympic-investing",
   "metadata": {},
   "outputs": [],
   "source": [
    "for fn in glob.glob(op.join(sourcedata, 'sub-001', 'ses-balgrist3t', 'func', '*.json')):\n",
    "    \n",
    "    with open(fn, 'r') as handle:\n",
    "        metadata = json.load(handle)\n",
    "        metadata['TaskName'] = 'Numerosity Mapper'\n",
    "        metadata['task'] = 'mapper'\n",
    "        \n",
    "    with open(fn, 'w') as handle:\n",
    "        json.dump(metadata, handle, indent=4)"
   ]
  },
  {
   "cell_type": "code",
   "execution_count": 61,
   "id": "latest-storm",
   "metadata": {},
   "outputs": [
    {
     "name": "stdout",
     "output_type": "stream",
     "text": [
      "{'TotalReadoutTime': 0.04, 'PhaseEncodingDirection': 'i', 'IntendedFor': 'ses-ibt7t/func/sub-001_ses-ibt7t_task-mapper_run-4_bold.nii.gz'}\n",
      "{'TotalReadoutTime': 0.04, 'PhaseEncodingDirection': 'i', 'IntendedFor': 'ses-ibt7t/func/sub-001_ses-ibt7t_task-mapper_run-2_bold.nii.gz'}\n",
      "{'TotalReadoutTime': 0.04, 'PhaseEncodingDirection': 'i-', 'IntendedFor': 'ses-ibt7t/func/sub-001_ses-ibt7t_task-mapper_run-3_bold.nii.gz'}\n",
      "{'TotalReadoutTime': 0.04, 'PhaseEncodingDirection': 'i-', 'IntendedFor': 'ses-ibt7t/func/sub-001_ses-ibt7t_task-mapper_run-1_bold.nii.gz'}\n"
     ]
    }
   ],
   "source": [
    "# for fn in glob.glob(op.join(sourcedata, 'sub-001', 'ses-ibt7t', 'fmap', '*.json')):\n",
    "    \n",
    "#     with open(fn, 'r') as handle:\n",
    "#         metadata = json.load(handle)\n",
    "\n",
    "#         metadata['IntendedFor'] = metadata['IntendedFor'].replace('sub-29', 'sub-001')\n",
    "#         metadata['IntendedFor'] += '.gz'\n",
    "#         print(metadata)\n",
    "# #         metadata['task'] = 'mapper'\n",
    "        \n",
    "#     with open(fn, 'w') as handle:\n",
    "#         json.dump(metadata, handle, indent=4)"
   ]
  },
  {
   "cell_type": "code",
   "execution_count": 65,
   "id": "employed-olympus",
   "metadata": {},
   "outputs": [
    {
     "ename": "NameError",
     "evalue": "name 'im' is not defined",
     "output_type": "error",
     "traceback": [
      "\u001b[0;31m---------------------------------------------------------------------------\u001b[0m",
      "\u001b[0;31mNameError\u001b[0m                                 Traceback (most recent call last)",
      "\u001b[0;32m<ipython-input-65-e371e598fe9f>\u001b[0m in \u001b[0;36m<module>\u001b[0;34m\u001b[0m\n\u001b[0;32m----> 1\u001b[0;31m \u001b[0mim\u001b[0m\u001b[0;34m\u001b[0m\u001b[0;34m\u001b[0m\u001b[0m\n\u001b[0m",
      "\u001b[0;31mNameError\u001b[0m: name 'im' is not defined"
     ]
    }
   ],
   "source": [
    "im"
   ]
  },
  {
   "cell_type": "code",
   "execution_count": 67,
   "id": "determined-roman",
   "metadata": {},
   "outputs": [],
   "source": [
    "im = image.load_img(fn)"
   ]
  },
  {
   "cell_type": "code",
   "execution_count": 74,
   "id": "animated-preference",
   "metadata": {},
   "outputs": [],
   "source": [
    "for fn in glob.glob(op.join(sourcedata, 'sub-001', 'ses-ibt7t', 'func', '*.nii.gz')):\n",
    "    \n",
    "    im = image.load_img(fn)\n",
    "    zooms = list(im.header.get_zooms())\n",
    "    \n",
    "    zooms[-1] = 2.3\n",
    "    im.header.set_zooms(zooms)\n",
    "    \n",
    "    im.to_filename(fn)\n",
    "    \n",
    "    \n",
    "#     with open(fn, 'r') as handle:\n",
    "#         metadata = json.load(handle)\n",
    "\n",
    "#         metadata['IntendedFor'] = metadata['IntendedFor'].replace('sub-29', 'sub-001')\n",
    "#         metadata['IntendedFor'] += '.gz'\n",
    "#         print(metadata)\n",
    "# #         metadata['task'] = 'mapper'\n",
    "        \n",
    "#     with open(fn, 'w') as handle:\n",
    "#         json.dump(metadata, handle, indent=4)"
   ]
  },
  {
   "cell_type": "code",
   "execution_count": 77,
   "id": "received-chaos",
   "metadata": {},
   "outputs": [],
   "source": [
    "with open(op.join(sourcedata, 'sub-001', 'ses-sns3t', 'func', 'sub-001_ses-sns3t_task-mapper_run-4_bold.json')) as handle:\n",
    "    slice_timing = json.load(handle)['SliceTiming']\n",
    "    \n",
    "    \n",
    "for fn in glob.glob(op.join(sourcedata, 'sub-001', 'ses-balgrist3t', 'func', '*.json')):\n",
    "    \n",
    "    with open(fn) as handle:        \n",
    "        d = json.load(handle)\n",
    "        \n",
    "    d['SliceTiming'] = slice_timing\n",
    "    \n",
    "    with open(fn, 'w') as handle:        \n",
    "        json.dump(d, handle) "
   ]
  },
  {
   "cell_type": "code",
   "execution_count": 5,
   "id": "north-federal",
   "metadata": {},
   "outputs": [],
   "source": [
    "import nipype.pipeline.engine as pe\n",
    "import nipype.interfaces.utility as niu\n",
    "from nipype.interfaces import ants, afni, fsl\n",
    "from nipype.interfaces import io as nio"
   ]
  },
  {
   "cell_type": "code",
   "execution_count": 6,
   "id": "interim-female",
   "metadata": {},
   "outputs": [],
   "source": [
    "from niworkflows.interfaces.bids import DerivativesDataSink"
   ]
  },
  {
   "cell_type": "code",
   "execution_count": 79,
   "id": "independent-romantic",
   "metadata": {},
   "outputs": [
    {
     "name": "stdout",
     "output_type": "stream",
     "text": [
      "2 1\n",
      "3 2\n",
      "4 3\n",
      "3 4\n"
     ]
    }
   ],
   "source": [
    "# Got a bit of a mess\n",
    "encodings = ['i', 'i-', 'i', 'i-']\n",
    "\n",
    "for source_run, target_run in zip([2, 3, 4, 3], [1, 2, 3, 4]):\n",
    "    print(source_run, target_run)\n",
    "    bold = op.join(sourcedata, 'sub-001', 'ses-balgrist3t', 'func', f'sub-001_ses-balgrist3t_task-mapper_run-{source_run}_bold.nii')\n",
    "    json_d = op.join(sourcedata, 'sub-001', 'ses-balgrist3t', 'func', f'sub-001_ses-balgrist3t_task-mapper_run-{source_run}_bold.json')\n",
    "    bold = image.load_img(bold)\n",
    "    \n",
    "    with open(json_d) as handle:\n",
    "        json_d = json.load(handle)\n",
    "        \n",
    "    json_d['IntendedFor'] = f'ses-balgrist3t/func/sub-001_ses-balgrist3t_task-mapper_run-{target_run}_bold.nii'\n",
    "    \n",
    "\n",
    "    json_d['PhaseEncodingDirection'] = encodings[source_run-1]\n",
    "    \n",
    "    if source_run > target_run:\n",
    "        topup = image.index_img(bold, range(10))\n",
    "    else:\n",
    "        topup = image.index_img(bold, range(-10, -1))\n",
    "    \n",
    "    topup.to_filename(op.join(sourcedata, 'sub-001', 'ses-balgrist3t', 'fmap', f'sub-001_ses-balgrist3t_run-{target_run}_epi.nii'))\n",
    "    \n",
    "    \n",
    "    with open(op.join(sourcedata, 'sub-001', 'ses-balgrist3t', 'fmap', f'sub-001_ses-balgrist3t_run-{target_run}_epi.json'), 'w') as handle:\n",
    "        json.dump(json_d, handle)"
   ]
  },
  {
   "cell_type": "code",
   "execution_count": null,
   "id": "continued-toyota",
   "metadata": {},
   "outputs": [],
   "source": []
  },
  {
   "cell_type": "code",
   "execution_count": 19,
   "id": "flexible-sessions",
   "metadata": {},
   "outputs": [
    {
     "data": {
      "text/plain": [
       "\n",
       "inskull_mask_file = <undefined>\n",
       "inskull_mesh_file = <undefined>\n",
       "mask_file = <undefined>\n",
       "meshfile = <undefined>\n",
       "out_file = <undefined>\n",
       "outline_file = <undefined>\n",
       "outskin_mask_file = <undefined>\n",
       "outskin_mesh_file = <undefined>\n",
       "outskull_mask_file = <undefined>\n",
       "outskull_mesh_file = <undefined>\n",
       "skull_file = <undefined>\n",
       "skull_mask_file = <undefined>"
      ]
     },
     "execution_count": 19,
     "metadata": {},
     "output_type": "execute_result"
    }
   ],
   "source": [
    "bet.outputs"
   ]
  },
  {
   "cell_type": "code",
   "execution_count": 27,
   "id": "bearing-favor",
   "metadata": {},
   "outputs": [
    {
     "name": "stdout",
     "output_type": "stream",
     "text": [
      "210719-10:35:50,719 nipype.workflow INFO:\n",
      "\t Workflow fix_mp2rage settings: ['check', 'execution', 'logging', 'monitoring']\n",
      "210719-10:35:50,726 nipype.workflow INFO:\n",
      "\t Running serially.\n",
      "210719-10:35:50,727 nipype.workflow INFO:\n",
      "\t [Node] Setting-up \"fix_mp2rage.n4_bias\" in \"/private/tmp/fix_mp2rage/n4_bias\".\n",
      "210719-10:35:50,731 nipype.workflow INFO:\n",
      "\t [Node] Cached \"fix_mp2rage.n4_bias\" - collecting precomputed outputs\n",
      "210719-10:35:50,731 nipype.workflow INFO:\n",
      "\t [Node] \"fix_mp2rage.n4_bias\" found cached.\n",
      "210719-10:35:50,732 nipype.workflow INFO:\n",
      "\t [Node] Setting-up \"fix_mp2rage.bet\" in \"/private/tmp/fix_mp2rage/bet\".\n",
      "210719-10:35:50,736 nipype.workflow INFO:\n",
      "\t [Node] Cached \"fix_mp2rage.bet\" - collecting precomputed outputs\n",
      "210719-10:35:50,737 nipype.workflow INFO:\n",
      "\t [Node] \"fix_mp2rage.bet\" found cached.\n",
      "210719-10:35:50,737 nipype.workflow INFO:\n",
      "\t [Node] Setting-up \"fix_mp2rage.automasker\" in \"/private/tmp/fix_mp2rage/automasker\".\n",
      "210719-10:35:50,741 nipype.workflow INFO:\n",
      "\t [Node] Cached \"fix_mp2rage.automasker\" - collecting precomputed outputs\n",
      "210719-10:35:50,742 nipype.workflow INFO:\n",
      "\t [Node] \"fix_mp2rage.automasker\" found cached.\n",
      "210719-10:35:50,742 nipype.workflow INFO:\n",
      "\t [Node] Setting-up \"fix_mp2rage.combine_masks\" in \"/private/tmp/fix_mp2rage/combine_masks\".\n",
      "210719-10:35:50,747 nipype.workflow INFO:\n",
      "\t [Node] Cached \"fix_mp2rage.combine_masks\" - collecting precomputed outputs\n",
      "210719-10:35:50,748 nipype.workflow INFO:\n",
      "\t [Node] \"fix_mp2rage.combine_masks\" found cached.\n",
      "210719-10:35:50,748 nipype.workflow INFO:\n",
      "\t [Node] Setting-up \"fix_mp2rage.apply_mask\" in \"/private/tmp/fix_mp2rage/apply_mask\".\n",
      "210719-10:35:50,751 nipype.workflow INFO:\n",
      "\t [Node] Cached \"fix_mp2rage.apply_mask\" - collecting precomputed outputs\n",
      "210719-10:35:50,752 nipype.workflow INFO:\n",
      "\t [Node] \"fix_mp2rage.apply_mask\" found cached.\n",
      "210719-10:35:50,752 nipype.workflow INFO:\n",
      "\t [Node] Setting-up \"fix_mp2rage.datasink\" in \"/private/tmp/fix_mp2rage/datasink\".\n",
      "210719-10:35:50,760 nipype.workflow INFO:\n",
      "\t [Node] Running \"datasink\" (\"niworkflows.interfaces.bids.DerivativesDataSink\")\n",
      "210719-10:35:50,939 nipype.workflow INFO:\n",
      "\t [Node] Finished \"fix_mp2rage.datasink\".\n"
     ]
    },
    {
     "name": "stderr",
     "output_type": "stream",
     "text": [
      "/Users/gdehol/miniconda3/lib/python3.8/site-packages/bids/layout/models.py:148: FutureWarning: The 'extension' entity currently excludes the leading dot ('.'). As of version 0.14.0, it will include the leading dot. To suppress this warning and include the leading dot, use `bids.config.set_option('extension_initial_dot', True)`.\n",
      "  warnings.warn(\"The 'extension' entity currently excludes the leading dot ('.'). \"\n"
     ]
    },
    {
     "data": {
      "text/plain": [
       "<networkx.classes.digraph.DiGraph at 0x7fd9e21506d0>"
      ]
     },
     "execution_count": 27,
     "metadata": {},
     "output_type": "execute_result"
    }
   ],
   "source": []
  },
  {
   "cell_type": "code",
   "execution_count": 31,
   "id": "interesting-sunday",
   "metadata": {},
   "outputs": [
    {
     "name": "stdout",
     "output_type": "stream",
     "text": [
      "Node: datasink (bids)\r\n",
      "=====================\r\n",
      "\r\n",
      "\r\n",
      " Hierarchy : fix_mp2rage.datasink\r\n",
      " Exec ID : datasink\r\n",
      "\r\n",
      "\r\n",
      "Original Inputs\r\n",
      "---------------\r\n",
      "\r\n",
      "\r\n",
      "* acquisition : <undefined>\r\n",
      "* atlas : <undefined>\r\n",
      "* base_directory : /Users/gdehol/Science/balgrist/data/ds-balgrist\r\n",
      "* ceagent : <undefined>\r\n",
      "* check_hdr : True\r\n",
      "* cohort : <undefined>\r\n",
      "* compress : <undefined>\r\n",
      "* data_dtype : <undefined>\r\n",
      "* datatype : <undefined>\r\n",
      "* density : <undefined>\r\n",
      "* desc : <undefined>\r\n",
      "* direction : <undefined>\r\n",
      "* dismiss_entities : <undefined>\r\n",
      "* echo : <undefined>\r\n",
      "* extension : <undefined>\r\n",
      "* fmap : <undefined>\r\n",
      "* fmapid : <undefined>\r\n",
      "* from : <undefined>\r\n",
      "* hemi : <undefined>\r\n",
      "* in_file : ['/private/tmp/fix_mp2rage/apply_mask/sub-001_ses-balgrist7t_T1UNI_masked.nii.gz']\r\n",
      "* label : <undefined>\r\n",
      "* meta_dict : <undefined>\r\n",
      "* modality : <undefined>\r\n",
      "* mode : <undefined>\r\n",
      "* model : <undefined>\r\n",
      "* proc : <undefined>\r\n",
      "* reconstruction : <undefined>\r\n",
      "* recording : <undefined>\r\n",
      "* resolution : <undefined>\r\n",
      "* roi : <undefined>\r\n",
      "* run : <undefined>\r\n",
      "* scans : <undefined>\r\n",
      "* session : <undefined>\r\n",
      "* source_file : ['/Users/gdehol/Science/balgrist/data/ds-balgrist/sub-001/ses-balgrist7t/anat/sub-001_ses-balgrist7t_T1UNI.nii']\r\n",
      "* space : <undefined>\r\n",
      "* subject : <undefined>\r\n",
      "* subset : <undefined>\r\n",
      "* suffix : T1w\r\n",
      "* task : <undefined>\r\n",
      "* to : <undefined>\r\n",
      "\r\n",
      "\r\n",
      "Execution Inputs\r\n",
      "----------------\r\n",
      "\r\n",
      "\r\n",
      "* acquisition : <undefined>\r\n",
      "* atlas : <undefined>\r\n",
      "* base_directory : /Users/gdehol/Science/balgrist/data/ds-balgrist\r\n",
      "* ceagent : <undefined>\r\n",
      "* check_hdr : True\r\n",
      "* cohort : <undefined>\r\n",
      "* compress : <undefined>\r\n",
      "* data_dtype : <undefined>\r\n",
      "* datatype : <undefined>\r\n",
      "* density : <undefined>\r\n",
      "* desc : <undefined>\r\n",
      "* direction : <undefined>\r\n",
      "* dismiss_entities : <undefined>\r\n",
      "* echo : <undefined>\r\n",
      "* extension : <undefined>\r\n",
      "* fmap : <undefined>\r\n",
      "* fmapid : <undefined>\r\n",
      "* from : <undefined>\r\n",
      "* hemi : <undefined>\r\n",
      "* in_file : ['/private/tmp/fix_mp2rage/apply_mask/sub-001_ses-balgrist7t_T1UNI_masked.nii.gz']\r\n",
      "* label : <undefined>\r\n",
      "* meta_dict : <undefined>\r\n",
      "* modality : <undefined>\r\n",
      "* mode : <undefined>\r\n",
      "* model : <undefined>\r\n",
      "* proc : <undefined>\r\n",
      "* reconstruction : <undefined>\r\n",
      "* recording : <undefined>\r\n",
      "* resolution : <undefined>\r\n",
      "* roi : <undefined>\r\n",
      "* run : <undefined>\r\n",
      "* scans : <undefined>\r\n",
      "* session : <undefined>\r\n",
      "* source_file : ['/Users/gdehol/Science/balgrist/data/ds-balgrist/sub-001/ses-balgrist7t/anat/sub-001_ses-balgrist7t_T1UNI.nii']\r\n",
      "* space : <undefined>\r\n",
      "* subject : <undefined>\r\n",
      "* subset : <undefined>\r\n",
      "* suffix : T1w\r\n",
      "* task : <undefined>\r\n",
      "* to : <undefined>\r\n",
      "\r\n",
      "\r\n",
      "Execution Outputs\r\n",
      "-----------------\r\n",
      "\r\n",
      "\r\n",
      "* compression : False\r\n",
      "* fixed_hdr : [True]\r\n",
      "* out_file : /Users/gdehol/Science/balgrist/data/ds-balgrist/niworkflows/sub-001/ses-balgrist7t/anat/sub-001_ses-balgrist7t_T1w.nii\r\n",
      "* out_meta : <undefined>\r\n",
      "\r\n",
      "\r\n",
      "Runtime info\r\n",
      "------------\r\n",
      "\r\n",
      "\r\n",
      "* duration : 0.17582\r\n",
      "* hostname : EconCR018\r\n",
      "* prev_wd : /Users/gdehol/git/balgrist_pilots/notebooks\r\n",
      "* working_dir : /private/tmp/fix_mp2rage/datasink\r\n",
      "\r\n",
      "\r\n",
      "Environment\r\n",
      "~~~~~~~~~~~\r\n",
      "\r\n",
      "\r\n",
      "* ANTSPATH : /Users/gilles/ants/bin\r\n",
      "* AUTOJUMP_ERROR_PATH : /Users/gdehol/Library/autojump/errors.log\r\n",
      "* AUTOJUMP_SOURCED : 1\r\n",
      "* CLICOLOR : 1\r\n",
      "* COLORFGBG : 12;8\r\n",
      "* COLORTERM : truecolor\r\n",
      "* COMMAND_MODE : unix2003\r\n",
      "* CONDA_DEFAULT_ENV : base\r\n",
      "* CONDA_DIR : /Users/gdehol/miniconda3\r\n",
      "* CONDA_EXE : /Users/gdehol/miniconda3/bin/conda\r\n",
      "* CONDA_PREFIX : /Users/gdehol/miniconda3\r\n",
      "* CONDA_PROMPT_MODIFIER : (base) \r\n",
      "* CONDA_PYTHON_EXE : /Users/gdehol/miniconda3/bin/python\r\n",
      "* CONDA_SHLVL : 1\r\n",
      "* DATA_DIR : /data2\r\n",
      "* DISPLAY : /private/tmp/com.apple.launchd.WAepCBRcXw/org.xquartz:0\r\n",
      "* DYLD_LIBRARY_PATH : :/opt/X11/lib/flat_namespace\r\n",
      "* FSLDIR : /usr/local/fsl\r\n",
      "* FSLGECUDAQ : cuda.q\r\n",
      "* FSLLOCKDIR : \r\n",
      "* FSLMACHINELIST : \r\n",
      "* FSLMULTIFILEQUIT : TRUE\r\n",
      "* FSLOUTPUTTYPE : NIFTI_GZ\r\n",
      "* FSLREMOTECALL : \r\n",
      "* FSLTCLSH : /usr/local/fsl/bin/fsltclsh\r\n",
      "* FSLWISH : /usr/local/fsl/bin/fslwish\r\n",
      "* GIT_PAGER : cat\r\n",
      "* HOME : /Users/gdehol\r\n",
      "* ITERM_PROFILE : Default\r\n",
      "* ITERM_SESSION_ID : w0t2p0:1A8B682D-9002-4F8A-84D5-51365631A806\r\n",
      "* JPY_PARENT_PID : 17128\r\n",
      "* KMP_DUPLICATE_LIB_OK : True\r\n",
      "* KMP_INIT_AT_FORK : FALSE\r\n",
      "* LANG : en_US.utf-8\r\n",
      "* LC_ALL : en_US.utf-8\r\n",
      "* LC_CTYPE : UTF-8\r\n",
      "* LESS : -R\r\n",
      "* LOGNAME : gdehol\r\n",
      "* LSCOLORS : Gxfxcxdxbxegedabagacad\r\n",
      "* MPLBACKEND : module://ipykernel.pylab.backend_inline\r\n",
      "* OLDPWD : /Users/gdehol\r\n",
      "* P9K_SSH : 0\r\n",
      "* P9K_TTY : old\r\n",
      "* PAGER : cat\r\n",
      "* PATH : /Users/gdehol/miniconda3/bin:/Users/gdehol/miniconda3/condabin:/usr/local/fsl/bin:/Users/gdehol/afni:/Users/gdehol/.autojump/bin:/Users/gdehol/.local/bin:/Users/gdehol/ants/bin:/usr/local/bin:/usr/bin:/bin:/usr/sbin:/sbin:/opt/X11/bin:/usr/texbin:/Users/gdehol/abin\r\n",
      "* PWD : /Users/gdehol/git/balgrist_pilots/notebooks\r\n",
      "* SHELL : /usr/local/bin/zsh\r\n",
      "* SHLVL : 1\r\n",
      "* SSH_AUTH_SOCK : /private/tmp/com.apple.launchd.WbMlawkR0T/Listeners\r\n",
      "* TERM : xterm-color\r\n",
      "* TERM_PROGRAM : iTerm.app\r\n",
      "* TERM_PROGRAM_VERSION : 3.2.9\r\n",
      "* TERM_SESSION_ID : w0t2p0:1A8B682D-9002-4F8A-84D5-51365631A806\r\n",
      "* TMPDIR : /var/folders/d4/cpqhwlbn301clph1qk64k01nmjkty3/T/\r\n",
      "* USER : gdehol\r\n",
      "* XPC_FLAGS : 0x0\r\n",
      "* XPC_SERVICE_NAME : 0\r\n",
      "* _ : /Users/gdehol/miniconda3/bin/jupyter\r\n",
      "* _CE_CONDA : \r\n",
      "* _CE_M : \r\n",
      "* _P9K_TTY : /dev/ttys007\r\n",
      "* __CFBundleIdentifier : com.googlecode.iterm2\r\n",
      "* __CF_USER_TEXT_ENCODING : 0x69196BC3:0x0:0x0\r\n",
      "\r\n"
     ]
    }
   ],
   "source": [
    "!cat /private/tmp/fix_mp2rage/datasink/_report/report.rst"
   ]
  },
  {
   "cell_type": "code",
   "execution_count": 12,
   "id": "moderate-denial",
   "metadata": {},
   "outputs": [
    {
     "data": {
      "text/plain": [
       "\n",
       "brain_file = <undefined>\n",
       "out_file = <undefined>"
      ]
     },
     "execution_count": 12,
     "metadata": {},
     "output_type": "execute_result"
    }
   ],
   "source": [
    "automask.outputs"
   ]
  },
  {
   "cell_type": "code",
   "execution_count": 21,
   "id": "configured-orlando",
   "metadata": {},
   "outputs": [
    {
     "data": {
      "text/plain": [
       "\n",
       "brain_file = <undefined>\n",
       "out_file = <undefined>"
      ]
     },
     "execution_count": 21,
     "metadata": {},
     "output_type": "execute_result"
    }
   ],
   "source": [
    "masker.outputs"
   ]
  },
  {
   "cell_type": "code",
   "execution_count": 13,
   "id": "hidden-feedback",
   "metadata": {},
   "outputs": [
    {
     "data": {
      "text/plain": [
       "\n",
       "args = <undefined>\n",
       "brain_file = <undefined>\n",
       "clfrac = <undefined>\n",
       "dilate = <undefined>\n",
       "environ = {}\n",
       "erode = <undefined>\n",
       "in_file = <undefined>\n",
       "num_threads = 1\n",
       "out_file = <undefined>\n",
       "outputtype = AFNI"
      ]
     },
     "execution_count": 13,
     "metadata": {},
     "output_type": "execute_result"
    }
   ],
   "source": [
    "masker.inputs"
   ]
  },
  {
   "cell_type": "code",
   "execution_count": 7,
   "id": "breathing-qualification",
   "metadata": {},
   "outputs": [],
   "source": [
    "from nilearn import plotting"
   ]
  },
  {
   "cell_type": "code",
   "execution_count": null,
   "id": "creative-conference",
   "metadata": {},
   "outputs": [],
   "source": [
    "thr_img = image.threshold_img(img, \"60%\")"
   ]
  },
  {
   "cell_type": "code",
   "execution_count": 9,
   "id": "accessible-pipeline",
   "metadata": {},
   "outputs": [],
   "source": [
    "from nilearn import masking"
   ]
  },
  {
   "cell_type": "code",
   "execution_count": 10,
   "id": "blank-chile",
   "metadata": {},
   "outputs": [],
   "source": [
    "import seaborn as sns"
   ]
  },
  {
   "cell_type": "code",
   "execution_count": 78,
   "id": "seventh-boring",
   "metadata": {},
   "outputs": [],
   "source": [
    "thr_img = masking.compute_epi_mask(img, lower_cutoff=0.05, upper_cutoff=0.25)"
   ]
  },
  {
   "cell_type": "code",
   "execution_count": 79,
   "id": "graduate-reynolds",
   "metadata": {},
   "outputs": [
    {
     "data": {
      "text/plain": [
       "<nilearn.plotting.displays.OrthoSlicer at 0x7ff8630eb550>"
      ]
     },
     "execution_count": 79,
     "metadata": {},
     "output_type": "execute_result"
    },
    {
     "data": {
      "image/png": "[encoded data removed]",
      "text/plain": [
       "<Figure size 475.2x187.2 with 4 Axes>"
      ]
     },
     "metadata": {},
     "output_type": "display_data"
    }
   ],
   "source": [
    "plotting.plot_img(image.math_img('im!=0', im=thr_img))"
   ]
  },
  {
   "cell_type": "code",
   "execution_count": null,
   "id": "dirty-shield",
   "metadata": {},
   "outputs": [],
   "source": []
  },
  {
   "cell_type": "code",
   "execution_count": 56,
   "id": "differential-wrapping",
   "metadata": {},
   "outputs": [
    {
     "name": "stdout",
     "output_type": "stream",
     "text": [
      "210713-15:32:22,950 nipype.workflow INFO:\n",
      "\t Workflow fix_mp2rage settings: ['check', 'execution', 'logging', 'monitoring']\n",
      "210713-15:32:22,956 nipype.workflow INFO:\n",
      "\t Running serially.\n",
      "210713-15:32:22,957 nipype.workflow INFO:\n",
      "\t [Node] Setting-up \"fix_mp2rage.n4_bias\" in \"/private/tmp/fix_mp2rage/n4_bias\".\n",
      "210713-15:32:22,963 nipype.workflow INFO:\n",
      "\t [Node] Running \"n4_bias\" (\"nipype.interfaces.ants.segmentation.N4BiasFieldCorrection\"), a CommandLine Interface with command:\n",
      "N4BiasFieldCorrection -d 3 --input-image /Users/gdehol/Science/balgrist/data/ds-balgrist/sub-001/ses-balgrist7t/anat/sub-001_ses-balgrist7t_inv-2_MP2RAGE.nii --output sub-001_ses-balgrist7t_inv-2_MP2RAGE_corrected.nii\n",
      "210713-15:33:09,624 nipype.workflow INFO:\n",
      "\t [Node] Finished \"fix_mp2rage.n4_bias\".\n"
     ]
    },
    {
     "data": {
      "text/plain": [
       "<networkx.classes.digraph.DiGraph at 0x7ff8880eecd0>"
      ]
     },
     "execution_count": 56,
     "metadata": {},
     "output_type": "execute_result"
    }
   ],
   "source": [
    "wf.run()"
   ]
  },
  {
   "cell_type": "code",
   "execution_count": 50,
   "id": "sealed-slovak",
   "metadata": {},
   "outputs": [
    {
     "data": {
      "text/plain": [
       "\n",
       "bias_image = <undefined>\n",
       "output_image = <undefined>"
      ]
     },
     "execution_count": 50,
     "metadata": {},
     "output_type": "execute_result"
    }
   ],
   "source": [
    "biasfield_correction.outputs"
   ]
  },
  {
   "cell_type": "code",
   "execution_count": null,
   "id": "awful-utilization",
   "metadata": {},
   "outputs": [],
   "source": []
  }
 ],
 "metadata": {
  "kernelspec": {
   "display_name": "Python 3",
   "language": "python",
   "name": "python3"
  },
  "language_info": {
   "codemirror_mode": {
    "name": "ipython",
    "version": 3
   },
   "file_extension": ".py",
   "mimetype": "text/x-python",
   "name": "python",
   "nbconvert_exporter": "python",
   "pygments_lexer": "ipython3",
   "version": "3.8.5"
  }
 },
 "nbformat": 4,
 "nbformat_minor": 5
}
